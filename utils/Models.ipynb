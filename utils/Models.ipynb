{
 "cells": [
  {
   "cell_type": "code",
   "execution_count": 18,
   "metadata": {},
   "outputs": [
    {
     "name": "stdout",
     "output_type": "stream",
     "text": [
      "Writing Models.py\n"
     ]
    }
   ],
   "source": [
    "%%file Models.py\n",
    "\n",
    "import pandas as pd\n",
    "import numpy as np\n",
    "import datetime\n",
    "import os\n",
    "\n",
    "# visualization\n",
    "import matplotlib.pyplot as plt\n",
    "import seaborn as sns\n",
    "\n",
    "from sklearn.linear_model import LogisticRegression\n",
    "from sklearn.svm import SVC\n",
    "from sklearn.ensemble import RandomForestClassifier\n",
    "from sklearn.neighbors import KNeighborsClassifier\n",
    "from sklearn.naive_bayes import GaussianNB # Gaussian Naive Bays\n",
    "\n",
    "from sklearn.model_selection import cross_val_score\n",
    "from sklearn.metrics import roc_curve, auc\n",
    "from sklearn.model_selection import StratifiedKFold\n",
    "\n",
    "import xgboost as xgb\n",
    "\n",
    "def cv_5_default_models(X, y, test_X):\n",
    "    now = datetime.datetime.today().strftime('%Y-%m-%d %H_%M')\n",
    "    identifier = '/Default_models'\n",
    "    folder = 'Submission' + identifier + '/' + now\n",
    "    os.makedirs(folder)\n",
    "    \n",
    "    cv = StratifiedKFold(n_splits=5)\n",
    "    \n",
    "    clf = {'log_reg': LogisticRegression(), 'knn': KNeighborsClassifier(n_neighbors = 3),\\\n",
    "           'svc': SVC(), 'random_forest': RandomForestClassifier(n_estimators=500), 'xgb': xgb.XGBClassifier(n_estimators=1000)}\n",
    "    aucs = {}\n",
    "    accu = {}\n",
    "    for name, model in clf.items():\n",
    "        classifier = model\n",
    "        accu[name] = []\n",
    "        aucs[name] = []\n",
    "        \n",
    "        scores = cross_val_score(classfier, X, y, cv =5)\n",
    "        accu[name] = scores\n",
    "        print('5 fold CV accuracy for %s is %0.2f (+/- %0.2f)' %(name, accu[name].mean(), accu[name].std() * 2))\n",
    "        \n",
    "        for train, test in cv.split(X, y):\n",
    "            probas_ = classifier.fit(X[train], y[train]).predict_proba(X[test])\n",
    "            fpr, tpr, _ = roc_curve(y[test], probas_[:, 1])\n",
    "            roc_auc = auc(fpr, tpr)\n",
    "            aucs[name].append(roc_auc)\n",
    "        print('5 fold CV ROC_AUC for %s is %0.2f (+/- %0.2f)' %(name, aucs[name].mean(), aucs[name].std() * 2))\n",
    "        \n",
    "        probas_ = classifier.fit(X, y).predict_proba(test_X)[:, 1]\n",
    "        submit = test_X[['SK_ID_CURR']]\n",
    "        submit['TARGET'] = probas\n",
    "        submit.to_csv(f'{folder}/{name}.csv', index = False)\n",
    "        "
   ]
  },
  {
   "cell_type": "code",
   "execution_count": null,
   "metadata": {},
   "outputs": [],
   "source": []
  }
 ],
 "metadata": {
  "kernelspec": {
   "display_name": "Python 3",
   "language": "python",
   "name": "python3"
  },
  "language_info": {
   "codemirror_mode": {
    "name": "ipython",
    "version": 3
   },
   "file_extension": ".py",
   "mimetype": "text/x-python",
   "name": "python",
   "nbconvert_exporter": "python",
   "pygments_lexer": "ipython3",
   "version": "3.6.7"
  }
 },
 "nbformat": 4,
 "nbformat_minor": 2
}
