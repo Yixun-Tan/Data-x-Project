{
 "cells": [
  {
   "cell_type": "code",
   "execution_count": 1,
   "metadata": {},
   "outputs": [],
   "source": [
    "# Data manipulation\n",
    "import pandas as pd\n",
    "import numpy as np\n",
    "\n",
    "# Modeling\n",
    "import lightgbm as lgb\n",
    "import xgboost as xgb\n",
    "\n",
    "# Evaluation of the model\n",
    "from sklearn.model_selection import KFold, train_test_split\n",
    "from sklearn.metrics import roc_auc_score\n",
    "\n",
    "# Visualization\n",
    "import matplotlib.pyplot as plt\n",
    "import seaborn as sns\n",
    "\n",
    "plt.rcParams['font.size'] = 18\n",
    "%matplotlib inline\n",
    "\n",
    "import warnings\n",
    "warnings.filterwarnings('ignore')\n",
    "\n",
    "# Custom\n",
    "\n",
    "from utils.preprocessing import one_hot_encoder\n",
    "from utils.preprocessing import missing_values_table"
   ]
  },
  {
   "cell_type": "markdown",
   "metadata": {},
   "source": [
    "### Set up training and test set"
   ]
  },
  {
   "cell_type": "code",
   "execution_count": 2,
   "metadata": {},
   "outputs": [
    {
     "name": "stdout",
     "output_type": "stream",
     "text": [
      "There are total 885 columns.\n",
      "823 of them have missing values.\n"
     ]
    }
   ],
   "source": [
    "spec_feature = pd.read_csv('~/HomeCredit/feature_matrix_spec.csv')\n",
    "missing_table = missing_values_table(spec_feature)\n",
    "\n",
    "dump_feats = missing_table[missing_table['% of Total Values'] > 30].index.tolist()\n",
    "\n",
    "spec_feature = spec_feature.drop(dump_feats, axis = 1)\n",
    "\n",
    "spec_feature, _ = one_hot_encoder(spec_feature)\n",
    "\n",
    "from sklearn.preprocessing import MinMaxScaler\n",
    "from sklearn.preprocessing import Imputer\n",
    "\n",
    "Target = spec_feature['TARGET']\n",
    "ID = spec_feature['SK_ID_CURR']\n",
    "\n",
    "dataset_temp = spec_feature.drop(['TARGET','SK_ID_CURR'], axis = 1)\n",
    "\n",
    "imputer = Imputer(strategy = 'median')\n",
    "scaler = MinMaxScaler(feature_range = (0,1))\n",
    "\n",
    "dataset_preprocessed = imputer.fit_transform(dataset_temp)\n",
    "dataset_preprocessed = scaler.fit_transform(dataset_preprocessed)\n",
    "dataset_preprocessed = pd.DataFrame(dataset_preprocessed, columns = dataset_temp.columns)\n",
    "\n",
    "dataset_preprocessed['TARGET'] = Target\n",
    "dataset_preprocessed['SK_ID_CURR'] = ID\n",
    "\n",
    "train_df = dataset_preprocessed[dataset_preprocessed['TARGET'] != -999]\n",
    "test_df = dataset_preprocessed[dataset_preprocessed['TARGET'] == -999]\n",
    "\n",
    "train_features = train_df.drop(['TARGET'], axis = 1)\n",
    "train_labels = train_df['TARGET']\n",
    "\n",
    "# Training set\n",
    "#train_set = lgb.Dataset(train_features, label = train_labels)"
   ]
  },
  {
   "cell_type": "markdown",
   "metadata": {},
   "source": [
    "## Baseline"
   ]
  },
  {
   "cell_type": "code",
   "execution_count": 3,
   "metadata": {},
   "outputs": [],
   "source": [
    "test_features = test_df.drop(['TARGET'], axis = 1)\n",
    "test_labels = test_df['TARGET']"
   ]
  },
  {
   "cell_type": "code",
   "execution_count": 4,
   "metadata": {},
   "outputs": [
    {
     "name": "stdout",
     "output_type": "stream",
     "text": [
      "(15000, 790)\n"
     ]
    }
   ],
   "source": [
    "N = 15000\n",
    "T = 3000\n",
    "X_train, Y_train = train_features[:N], train_labels[:N]\n",
    "X_test, Y_test = test_features[:T], test_labels[:T]\n",
    "print(X_train.shape)"
   ]
  },
  {
   "cell_type": "code",
   "execution_count": 5,
   "metadata": {},
   "outputs": [],
   "source": [
    "clr_xgb = xgb.XGBClassifier(n_estimators=500, n_jobs = -1)"
   ]
  },
  {
   "cell_type": "code",
   "execution_count": 6,
   "metadata": {},
   "outputs": [
    {
     "name": "stdout",
     "output_type": "stream",
     "text": [
      "5 fold CV accuracy for random forest is 0.77 (+/- 0.599057)\n",
      "5 fold CV ROC_AUC is 0.72 (+/- 0.10)\n"
     ]
    }
   ],
   "source": [
    "from sklearn.model_selection import cross_val_score\n",
    "from sklearn.metrics import roc_auc_score, roc_curve, auc\n",
    "# accuracy\n",
    "acc_scores = cross_val_score(clr_xgb, X_train, Y_train, cv = 5)\n",
    "\n",
    "print('5 fold CV accuracy for random forest is %0.2f (+/- %f)' %(acc_scores.mean(), acc_scores.std() * 2))\n",
    "\n",
    "# roc auc score\n",
    "roc_auc_scores = cross_val_score(clr_xgb, X_train, Y_train, cv=5, scoring='roc_auc')\n",
    "print('5 fold CV ROC_AUC is %0.2f (+/- %0.2f)' %(roc_auc_scores.mean(), roc_auc_scores.std() * 2))"
   ]
  },
  {
   "cell_type": "code",
   "execution_count": 23,
   "metadata": {},
   "outputs": [
    {
     "name": "stdout",
     "output_type": "stream",
     "text": [
      "5 fold CV ROC_AUC is 0.71661 (+/- 0.09833)\n"
     ]
    }
   ],
   "source": [
    "print('5 fold CV ROC_AUC is %0.5f (+/- %0.5f)' %(roc_auc_scores.mean(), roc_auc_scores.std() * 2))"
   ]
  },
  {
   "cell_type": "code",
   "execution_count": 10,
   "metadata": {},
   "outputs": [
    {
     "data": {
      "text/plain": [
       "{'base_score': 0.5,\n",
       " 'booster': 'gbtree',\n",
       " 'colsample_bylevel': 1,\n",
       " 'colsample_bytree': 1,\n",
       " 'gamma': 0,\n",
       " 'learning_rate': 0.1,\n",
       " 'max_delta_step': 0,\n",
       " 'max_depth': 3,\n",
       " 'min_child_weight': 1,\n",
       " 'missing': None,\n",
       " 'n_estimators': 500,\n",
       " 'n_jobs': -1,\n",
       " 'nthread': None,\n",
       " 'objective': 'binary:logistic',\n",
       " 'random_state': 0,\n",
       " 'reg_alpha': 0,\n",
       " 'reg_lambda': 1,\n",
       " 'scale_pos_weight': 1,\n",
       " 'seed': None,\n",
       " 'silent': True,\n",
       " 'subsample': 1}"
      ]
     },
     "execution_count": 10,
     "metadata": {},
     "output_type": "execute_result"
    }
   ],
   "source": [
    "clr_xgb.get_params()"
   ]
  },
  {
   "cell_type": "code",
   "execution_count": 11,
   "metadata": {},
   "outputs": [],
   "source": [
    "# A parameter grid for XGBoost\n",
    "params = {\n",
    "        'min_child_weight': [1, 5, 10],\n",
    "        'gamma': [0.5, 1, 1.5, 2, 5],\n",
    "        'subsample': [0.6, 0.8, 1.0],\n",
    "        'colsample_bytree': [0.6, 0.8, 1.0],\n",
    "        'max_depth': [3, 4, 5]\n",
    "        }"
   ]
  },
  {
   "cell_type": "code",
   "execution_count": 15,
   "metadata": {},
   "outputs": [
    {
     "name": "stdout",
     "output_type": "stream",
     "text": [
      "Fitting 5 folds for each of 5 candidates, totalling 25 fits\n"
     ]
    },
    {
     "name": "stderr",
     "output_type": "stream",
     "text": [
      "[Parallel(n_jobs=-1)]: Using backend LokyBackend with 16 concurrent workers.\n",
      "[Parallel(n_jobs=-1)]: Done   3 out of  25 | elapsed:  3.3min remaining: 23.9min\n",
      "[Parallel(n_jobs=-1)]: Done  12 out of  25 | elapsed:  4.9min remaining:  5.3min\n",
      "[Parallel(n_jobs=-1)]: Done  21 out of  25 | elapsed:  7.3min remaining:  1.4min\n",
      "[Parallel(n_jobs=-1)]: Done  25 out of  25 | elapsed:  7.9min finished\n"
     ]
    },
    {
     "data": {
      "text/plain": [
       "RandomizedSearchCV(cv=<generator object _BaseKFold.split at 0x7fd98c9b2258>,\n",
       "          error_score='raise-deprecating',\n",
       "          estimator=XGBClassifier(base_score=0.5, booster='gbtree', colsample_bylevel=1,\n",
       "       colsample_bytree=1, gamma=0, learning_rate=0.1, max_delta_step=0,\n",
       "       max_depth=3, min_child_weight=1, missing=None, n_estimators=500,\n",
       "       n_jobs=-1, nthread=None, objective='binary:logistic',\n",
       "       random_state=0, reg_alpha=0, reg_lambda=1, scale_pos_weight=1,\n",
       "       seed=None, silent=True, subsample=1),\n",
       "          fit_params=None, iid='warn', n_iter=5, n_jobs=-1,\n",
       "          param_distributions={'min_child_weight': [1, 5, 10], 'gamma': [0.5, 1, 1.5, 2, 5], 'subsample': [0.6, 0.8, 1.0], 'colsample_bytree': [0.6, 0.8, 1.0], 'max_depth': [3, 4, 5]},\n",
       "          pre_dispatch='2*n_jobs', random_state=1001, refit=True,\n",
       "          return_train_score='warn', scoring='roc_auc', verbose=3)"
      ]
     },
     "execution_count": 15,
     "metadata": {},
     "output_type": "execute_result"
    }
   ],
   "source": [
    "from sklearn.model_selection import RandomizedSearchCV, GridSearchCV\n",
    "from sklearn.metrics import roc_auc_score\n",
    "from sklearn.model_selection import StratifiedKFold\n",
    "\n",
    "folds = 5\n",
    "param_comb = 5\n",
    "\n",
    "skf = StratifiedKFold(n_splits=folds, shuffle = True, random_state = 1001)\n",
    "\n",
    "random_search = RandomizedSearchCV(clr_xgb, param_distributions=params, n_iter=param_comb, scoring='roc_auc', n_jobs=-1, cv=skf.split(X_train,Y_train), verbose=3, random_state=1001 )\n",
    "\n",
    "random_search.fit(X_train, Y_train)"
   ]
  },
  {
   "cell_type": "code",
   "execution_count": 16,
   "metadata": {},
   "outputs": [
    {
     "name": "stdout",
     "output_type": "stream",
     "text": [
      "\n",
      " All results:\n",
      "{'mean_fit_time': array([194.46544447, 294.02675261, 283.21006293, 169.69401412,\n",
      "       206.34997072]), 'std_fit_time': array([ 4.28267192,  1.64765154,  2.06131266, 13.86781528, 25.30580188]), 'mean_score_time': array([0.16550169, 0.2563447 , 0.27811236, 0.16641884, 0.13767467]), 'std_score_time': array([0.04360121, 0.10175452, 0.05104975, 0.06606588, 0.00173767]), 'param_subsample': masked_array(data=[1.0, 0.6, 0.8, 1.0, 0.8],\n",
      "             mask=[False, False, False, False, False],\n",
      "       fill_value='?',\n",
      "            dtype=object), 'param_min_child_weight': masked_array(data=[5, 1, 5, 5, 1],\n",
      "             mask=[False, False, False, False, False],\n",
      "       fill_value='?',\n",
      "            dtype=object), 'param_max_depth': masked_array(data=[3, 5, 5, 5, 4],\n",
      "             mask=[False, False, False, False, False],\n",
      "       fill_value='?',\n",
      "            dtype=object), 'param_gamma': masked_array(data=[5, 1.5, 1, 5, 1],\n",
      "             mask=[False, False, False, False, False],\n",
      "       fill_value='?',\n",
      "            dtype=object), 'param_colsample_bytree': masked_array(data=[1.0, 0.8, 0.8, 0.6, 1.0],\n",
      "             mask=[False, False, False, False, False],\n",
      "       fill_value='?',\n",
      "            dtype=object), 'params': [{'subsample': 1.0, 'min_child_weight': 5, 'max_depth': 3, 'gamma': 5, 'colsample_bytree': 1.0}, {'subsample': 0.6, 'min_child_weight': 1, 'max_depth': 5, 'gamma': 1.5, 'colsample_bytree': 0.8}, {'subsample': 0.8, 'min_child_weight': 5, 'max_depth': 5, 'gamma': 1, 'colsample_bytree': 0.8}, {'subsample': 1.0, 'min_child_weight': 5, 'max_depth': 5, 'gamma': 5, 'colsample_bytree': 0.6}, {'subsample': 0.8, 'min_child_weight': 1, 'max_depth': 4, 'gamma': 1, 'colsample_bytree': 1.0}], 'split0_test_score': array([0.73555176, 0.71680436, 0.71392748, 0.72683959, 0.71430901]), 'split1_test_score': array([0.75946135, 0.72614828, 0.72505714, 0.73962372, 0.72738871]), 'split2_test_score': array([0.71924743, 0.71188488, 0.70216306, 0.71865954, 0.70777269]), 'split3_test_score': array([0.75602632, 0.71928591, 0.72750721, 0.73901274, 0.74054403]), 'split4_test_score': array([0.76624704, 0.75074265, 0.74627286, 0.76019691, 0.74521414]), 'mean_test_score': array([0.74730473, 0.72497095, 0.72298339, 0.73686427, 0.72704366]), 'std_test_score': array([0.01736624, 0.01367937, 0.01471399, 0.01405988, 0.01446396]), 'rank_test_score': array([1, 4, 5, 2, 3], dtype=int32), 'split0_train_score': array([0.89923792, 0.99999923, 0.99999653, 0.99309479, 0.9999611 ]), 'split1_train_score': array([0.89700768, 0.99998999, 0.99999374, 0.99517055, 0.99992615]), 'split2_train_score': array([0.89667098, 1.        , 1.        , 0.9918117 , 0.99992018]), 'split3_train_score': array([0.89524617, 0.99999952, 0.99999451, 0.99262046, 0.99981697]), 'split4_train_score': array([0.88756653, 0.99999962, 0.99998798, 0.9913676 , 0.99992161]), 'mean_train_score': array([0.89514586, 0.99999767, 0.99999455, 0.99281302, 0.9999092 ]), 'std_train_score': array([3.99983925e-03, 3.84953720e-06, 3.93667249e-06, 1.32410835e-03,\n",
      "       4.85015661e-05])}\n",
      "\n",
      " Best estimator:\n",
      "XGBClassifier(base_score=0.5, booster='gbtree', colsample_bylevel=1,\n",
      "       colsample_bytree=1.0, gamma=5, learning_rate=0.1, max_delta_step=0,\n",
      "       max_depth=3, min_child_weight=5, missing=None, n_estimators=500,\n",
      "       n_jobs=-1, nthread=None, objective='binary:logistic',\n",
      "       random_state=0, reg_alpha=0, reg_lambda=1, scale_pos_weight=1,\n",
      "       seed=None, silent=True, subsample=1.0)\n",
      "\n",
      " Best normalized gini score for 5-fold search with 5 parameter combinations:\n",
      "0.49460946947516815\n",
      "\n",
      " Best hyperparameters:\n",
      "{'subsample': 1.0, 'min_child_weight': 5, 'max_depth': 3, 'gamma': 5, 'colsample_bytree': 1.0}\n"
     ]
    }
   ],
   "source": [
    "print('\\n All results:')\n",
    "print(random_search.cv_results_)\n",
    "print('\\n Best estimator:')\n",
    "print(random_search.best_estimator_)\n",
    "print('\\n Best normalized gini score for %d-fold search with %d parameter combinations:' % (folds, param_comb))\n",
    "print(random_search.best_score_ * 2 - 1)\n",
    "print('\\n Best hyperparameters:')\n",
    "print(random_search.best_params_)\n",
    "results = pd.DataFrame(random_search.cv_results_)\n",
    "results.to_csv('xgb-random-grid-search-results-01.csv', index=False)"
   ]
  },
  {
   "cell_type": "code",
   "execution_count": 17,
   "metadata": {},
   "outputs": [],
   "source": [
    "test_preds = random_search.predict_proba(test_features)"
   ]
  },
  {
   "cell_type": "code",
   "execution_count": 21,
   "metadata": {},
   "outputs": [
    {
     "name": "stdout",
     "output_type": "stream",
     "text": [
      "5 fold CV ROC_AUC is 0.74 (+/- 0.06)\n"
     ]
    }
   ],
   "source": [
    "best_paras = {'subsample': 1.0, 'min_child_weight': 5, 'max_depth': 3, 'gamma': 5, 'colsample_bytree': 1.0}\n",
    "clr_xgb_best = xgb.XGBClassifier(n_estimators=500, subsample=1, min_child_weight=5, max_depth=3, gamma=5, colsample_bytree=1.0, n_jobs = -1)\n",
    "#cross_val_score(clr_xgb_best, X=X_train, y=Y_train, scoring='roc_auc', cv = StratifiedKFold(n_splits=folds, shuffle=True, random_state=1001))\n",
    "# roc auc score\n",
    "roc_auc_scores_best_para = cross_val_score(clr_xgb_best, X_train, Y_train, cv=5, scoring='roc_auc')\n"
   ]
  },
  {
   "cell_type": "code",
   "execution_count": 22,
   "metadata": {},
   "outputs": [
    {
     "name": "stdout",
     "output_type": "stream",
     "text": [
      "5 fold CV ROC_AUC is 0.74125 (+/- 0.06496)\n"
     ]
    }
   ],
   "source": [
    "print('5 fold CV ROC_AUC is %0.5f (+/- %0.5f)' %(roc_auc_scores_best_para.mean(), roc_auc_scores_best_para.std() * 2))"
   ]
  },
  {
   "cell_type": "code",
   "execution_count": null,
   "metadata": {},
   "outputs": [],
   "source": [
    "# for the whole dataset\n",
    "roc_auc_scores_best_para = cross_val_score(clr_xgb_best, train_features, train_labels, cv=5, scoring='roc_auc')\n",
    "print('5 fold CV ROC_AUC is %0.5f (+/- %0.5f)' %(roc_auc_scores_best_para.mean(), roc_auc_scores_best_para.std() * 2))"
   ]
  },
  {
   "cell_type": "code",
   "execution_count": null,
   "metadata": {},
   "outputs": [],
   "source": []
  }
 ],
 "metadata": {
  "kernelspec": {
   "display_name": "Python 3",
   "language": "python",
   "name": "python3"
  },
  "language_info": {
   "codemirror_mode": {
    "name": "ipython",
    "version": 3
   },
   "file_extension": ".py",
   "mimetype": "text/x-python",
   "name": "python",
   "nbconvert_exporter": "python",
   "pygments_lexer": "ipython3",
   "version": "3.6.8"
  }
 },
 "nbformat": 4,
 "nbformat_minor": 2
}
