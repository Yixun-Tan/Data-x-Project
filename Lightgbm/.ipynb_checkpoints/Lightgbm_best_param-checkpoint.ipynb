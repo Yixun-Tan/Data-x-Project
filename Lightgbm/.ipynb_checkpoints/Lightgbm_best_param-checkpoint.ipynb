{
 "cells": [
  {
   "cell_type": "code",
   "execution_count": null,
   "metadata": {},
   "outputs": [],
   "source": [
    "import pandas as pd\n",
    "import numpy as np\n",
    "import pickle\n",
    "from lightgbm import LGBMClassifier"
   ]
  },
  {
   "cell_type": "code",
   "execution_count": null,
   "metadata": {},
   "outputs": [],
   "source": [
    "with open('LGBM_best_param.pkl', 'rb') as file:\n",
    "    hyp = pickle.load(file)\n",
    "\n",
    "    \n",
    "df = pd.read_csv('/home/Ethan_google/final_dataset_train.csv')\n",
    "y_train = df['TARGET']\n",
    "x_train = df.drop(['TARGET', 'SK_ID_CURR'], axis = 1)\n",
    "\n",
    "df = pd.read_csv('/home/Ethan_google/final_dataset_test.csv')\n",
    "ID = x_test[['SK_ID_CURR']]\n",
    "x_test = df.drop(['TARGET', 'SK_ID_CURR'], axis = 1)\n",
    "\n",
    "train_set = lgb.Dataset(x_train, label = y_train)\n",
    "cv_results = lgb.cv(hyp, train_set, num_boost_round = 10000, nfold = 5, early_stopping_rounds = 200, metrics = 'auc')\n",
    "best_score = cv_results['auc-mean'][-1]\n",
    "std = cv_results['auc-stdv'][-1]\n",
    "print('5 fold CV ROC_AUC is %0.5f (+/- %0.2f)' %(best_score, std * 2))\n"
   ]
  },
  {
   "cell_type": "code",
   "execution_count": null,
   "metadata": {},
   "outputs": [],
   "source": [
    "clf = LGBMClassifier(**hyp)\n",
    "clf.fit(x_train, y_train, eval_metric = 'auc', verbose = 200, early_stopping_rounds = 200)\n",
    "clf.predict_proba(x_test, num_iteration = clf.best_iteration_)[:, 1]\n",
    "\n",
    "submit = ID\n",
    "submit['TARGET'] = y_test_pred\n",
    "\n",
    "submit.to_csv('lightgbm_best_params.csv', index = False)"
   ]
  }
 ],
 "metadata": {
  "kernelspec": {
   "display_name": "Python 3",
   "language": "python",
   "name": "python3"
  },
  "language_info": {
   "codemirror_mode": {
    "name": "ipython",
    "version": 3
   },
   "file_extension": ".py",
   "mimetype": "text/x-python",
   "name": "python",
   "nbconvert_exporter": "python",
   "pygments_lexer": "ipython3",
   "version": "3.6.7"
  }
 },
 "nbformat": 4,
 "nbformat_minor": 2
}
