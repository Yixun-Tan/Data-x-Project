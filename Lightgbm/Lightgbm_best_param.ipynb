{
 "cells": [
  {
   "cell_type": "code",
   "execution_count": 1,
<<<<<<< HEAD
   "metadata": {},
=======
   "metadata": {
    "collapsed": true
   },
>>>>>>> ae8b697573d8ce11a992652929caed8d0c9baceb
   "outputs": [],
   "source": [
    "import pandas as pd\n",
    "import numpy as np\n",
    "import pickle\n",
    "import lightgbm as lgb\n",
    "from lightgbm import LGBMClassifier\n",
    "from sklearn.model_selection import StratifiedKFold\n",
    "from sklearn.metrics import roc_auc_score, roc_curve, auc"
   ]
  },
  {
   "cell_type": "code",
   "execution_count": 2,
<<<<<<< HEAD
   "metadata": {},
   "outputs": [
    {
     "ename": "FileNotFoundError",
     "evalue": "File b'/home/Ethan_google/final_dataset_train.csv' does not exist",
     "output_type": "error",
     "traceback": [
      "\u001b[1;31m---------------------------------------------------------------------------\u001b[0m",
      "\u001b[1;31mFileNotFoundError\u001b[0m                         Traceback (most recent call last)",
      "\u001b[1;32m<ipython-input-2-af59bac78ed1>\u001b[0m in \u001b[0;36m<module>\u001b[1;34m\u001b[0m\n\u001b[0;32m      3\u001b[0m \u001b[1;33m\u001b[0m\u001b[0m\n\u001b[0;32m      4\u001b[0m \u001b[1;33m\u001b[0m\u001b[0m\n\u001b[1;32m----> 5\u001b[1;33m \u001b[0mdf\u001b[0m \u001b[1;33m=\u001b[0m \u001b[0mpd\u001b[0m\u001b[1;33m.\u001b[0m\u001b[0mread_csv\u001b[0m\u001b[1;33m(\u001b[0m\u001b[1;34m'/home/Ethan_google/final_dataset_train.csv'\u001b[0m\u001b[1;33m)\u001b[0m\u001b[1;33m\u001b[0m\u001b[1;33m\u001b[0m\u001b[0m\n\u001b[0m\u001b[0;32m      6\u001b[0m \u001b[0my_train\u001b[0m \u001b[1;33m=\u001b[0m \u001b[0mdf\u001b[0m\u001b[1;33m[\u001b[0m\u001b[1;34m'TARGET'\u001b[0m\u001b[1;33m]\u001b[0m\u001b[1;33m\u001b[0m\u001b[1;33m\u001b[0m\u001b[0m\n\u001b[0;32m      7\u001b[0m \u001b[0mx_train\u001b[0m \u001b[1;33m=\u001b[0m \u001b[0mdf\u001b[0m\u001b[1;33m.\u001b[0m\u001b[0mdrop\u001b[0m\u001b[1;33m(\u001b[0m\u001b[1;33m[\u001b[0m\u001b[1;34m'TARGET'\u001b[0m\u001b[1;33m,\u001b[0m \u001b[1;34m'SK_ID_CURR'\u001b[0m\u001b[1;33m]\u001b[0m\u001b[1;33m,\u001b[0m \u001b[0maxis\u001b[0m \u001b[1;33m=\u001b[0m \u001b[1;36m1\u001b[0m\u001b[1;33m)\u001b[0m\u001b[1;33m\u001b[0m\u001b[1;33m\u001b[0m\u001b[0m\n",
      "\u001b[1;32mD:\\Anaconda\\envs\\data-x\\lib\\site-packages\\pandas\\io\\parsers.py\u001b[0m in \u001b[0;36mparser_f\u001b[1;34m(filepath_or_buffer, sep, delimiter, header, names, index_col, usecols, squeeze, prefix, mangle_dupe_cols, dtype, engine, converters, true_values, false_values, skipinitialspace, skiprows, nrows, na_values, keep_default_na, na_filter, verbose, skip_blank_lines, parse_dates, infer_datetime_format, keep_date_col, date_parser, dayfirst, iterator, chunksize, compression, thousands, decimal, lineterminator, quotechar, quoting, escapechar, comment, encoding, dialect, tupleize_cols, error_bad_lines, warn_bad_lines, skipfooter, doublequote, delim_whitespace, low_memory, memory_map, float_precision)\u001b[0m\n\u001b[0;32m    676\u001b[0m                     skip_blank_lines=skip_blank_lines)\n\u001b[0;32m    677\u001b[0m \u001b[1;33m\u001b[0m\u001b[0m\n\u001b[1;32m--> 678\u001b[1;33m         \u001b[1;32mreturn\u001b[0m \u001b[0m_read\u001b[0m\u001b[1;33m(\u001b[0m\u001b[0mfilepath_or_buffer\u001b[0m\u001b[1;33m,\u001b[0m \u001b[0mkwds\u001b[0m\u001b[1;33m)\u001b[0m\u001b[1;33m\u001b[0m\u001b[1;33m\u001b[0m\u001b[0m\n\u001b[0m\u001b[0;32m    679\u001b[0m \u001b[1;33m\u001b[0m\u001b[0m\n\u001b[0;32m    680\u001b[0m     \u001b[0mparser_f\u001b[0m\u001b[1;33m.\u001b[0m\u001b[0m__name__\u001b[0m \u001b[1;33m=\u001b[0m \u001b[0mname\u001b[0m\u001b[1;33m\u001b[0m\u001b[1;33m\u001b[0m\u001b[0m\n",
      "\u001b[1;32mD:\\Anaconda\\envs\\data-x\\lib\\site-packages\\pandas\\io\\parsers.py\u001b[0m in \u001b[0;36m_read\u001b[1;34m(filepath_or_buffer, kwds)\u001b[0m\n\u001b[0;32m    438\u001b[0m \u001b[1;33m\u001b[0m\u001b[0m\n\u001b[0;32m    439\u001b[0m     \u001b[1;31m# Create the parser.\u001b[0m\u001b[1;33m\u001b[0m\u001b[1;33m\u001b[0m\u001b[1;33m\u001b[0m\u001b[0m\n\u001b[1;32m--> 440\u001b[1;33m     \u001b[0mparser\u001b[0m \u001b[1;33m=\u001b[0m \u001b[0mTextFileReader\u001b[0m\u001b[1;33m(\u001b[0m\u001b[0mfilepath_or_buffer\u001b[0m\u001b[1;33m,\u001b[0m \u001b[1;33m**\u001b[0m\u001b[0mkwds\u001b[0m\u001b[1;33m)\u001b[0m\u001b[1;33m\u001b[0m\u001b[1;33m\u001b[0m\u001b[0m\n\u001b[0m\u001b[0;32m    441\u001b[0m \u001b[1;33m\u001b[0m\u001b[0m\n\u001b[0;32m    442\u001b[0m     \u001b[1;32mif\u001b[0m \u001b[0mchunksize\u001b[0m \u001b[1;32mor\u001b[0m \u001b[0miterator\u001b[0m\u001b[1;33m:\u001b[0m\u001b[1;33m\u001b[0m\u001b[1;33m\u001b[0m\u001b[0m\n",
      "\u001b[1;32mD:\\Anaconda\\envs\\data-x\\lib\\site-packages\\pandas\\io\\parsers.py\u001b[0m in \u001b[0;36m__init__\u001b[1;34m(self, f, engine, **kwds)\u001b[0m\n\u001b[0;32m    785\u001b[0m             \u001b[0mself\u001b[0m\u001b[1;33m.\u001b[0m\u001b[0moptions\u001b[0m\u001b[1;33m[\u001b[0m\u001b[1;34m'has_index_names'\u001b[0m\u001b[1;33m]\u001b[0m \u001b[1;33m=\u001b[0m \u001b[0mkwds\u001b[0m\u001b[1;33m[\u001b[0m\u001b[1;34m'has_index_names'\u001b[0m\u001b[1;33m]\u001b[0m\u001b[1;33m\u001b[0m\u001b[1;33m\u001b[0m\u001b[0m\n\u001b[0;32m    786\u001b[0m \u001b[1;33m\u001b[0m\u001b[0m\n\u001b[1;32m--> 787\u001b[1;33m         \u001b[0mself\u001b[0m\u001b[1;33m.\u001b[0m\u001b[0m_make_engine\u001b[0m\u001b[1;33m(\u001b[0m\u001b[0mself\u001b[0m\u001b[1;33m.\u001b[0m\u001b[0mengine\u001b[0m\u001b[1;33m)\u001b[0m\u001b[1;33m\u001b[0m\u001b[1;33m\u001b[0m\u001b[0m\n\u001b[0m\u001b[0;32m    788\u001b[0m \u001b[1;33m\u001b[0m\u001b[0m\n\u001b[0;32m    789\u001b[0m     \u001b[1;32mdef\u001b[0m \u001b[0mclose\u001b[0m\u001b[1;33m(\u001b[0m\u001b[0mself\u001b[0m\u001b[1;33m)\u001b[0m\u001b[1;33m:\u001b[0m\u001b[1;33m\u001b[0m\u001b[1;33m\u001b[0m\u001b[0m\n",
      "\u001b[1;32mD:\\Anaconda\\envs\\data-x\\lib\\site-packages\\pandas\\io\\parsers.py\u001b[0m in \u001b[0;36m_make_engine\u001b[1;34m(self, engine)\u001b[0m\n\u001b[0;32m   1012\u001b[0m     \u001b[1;32mdef\u001b[0m \u001b[0m_make_engine\u001b[0m\u001b[1;33m(\u001b[0m\u001b[0mself\u001b[0m\u001b[1;33m,\u001b[0m \u001b[0mengine\u001b[0m\u001b[1;33m=\u001b[0m\u001b[1;34m'c'\u001b[0m\u001b[1;33m)\u001b[0m\u001b[1;33m:\u001b[0m\u001b[1;33m\u001b[0m\u001b[1;33m\u001b[0m\u001b[0m\n\u001b[0;32m   1013\u001b[0m         \u001b[1;32mif\u001b[0m \u001b[0mengine\u001b[0m \u001b[1;33m==\u001b[0m \u001b[1;34m'c'\u001b[0m\u001b[1;33m:\u001b[0m\u001b[1;33m\u001b[0m\u001b[1;33m\u001b[0m\u001b[0m\n\u001b[1;32m-> 1014\u001b[1;33m             \u001b[0mself\u001b[0m\u001b[1;33m.\u001b[0m\u001b[0m_engine\u001b[0m \u001b[1;33m=\u001b[0m \u001b[0mCParserWrapper\u001b[0m\u001b[1;33m(\u001b[0m\u001b[0mself\u001b[0m\u001b[1;33m.\u001b[0m\u001b[0mf\u001b[0m\u001b[1;33m,\u001b[0m \u001b[1;33m**\u001b[0m\u001b[0mself\u001b[0m\u001b[1;33m.\u001b[0m\u001b[0moptions\u001b[0m\u001b[1;33m)\u001b[0m\u001b[1;33m\u001b[0m\u001b[1;33m\u001b[0m\u001b[0m\n\u001b[0m\u001b[0;32m   1015\u001b[0m         \u001b[1;32melse\u001b[0m\u001b[1;33m:\u001b[0m\u001b[1;33m\u001b[0m\u001b[1;33m\u001b[0m\u001b[0m\n\u001b[0;32m   1016\u001b[0m             \u001b[1;32mif\u001b[0m \u001b[0mengine\u001b[0m \u001b[1;33m==\u001b[0m \u001b[1;34m'python'\u001b[0m\u001b[1;33m:\u001b[0m\u001b[1;33m\u001b[0m\u001b[1;33m\u001b[0m\u001b[0m\n",
      "\u001b[1;32mD:\\Anaconda\\envs\\data-x\\lib\\site-packages\\pandas\\io\\parsers.py\u001b[0m in \u001b[0;36m__init__\u001b[1;34m(self, src, **kwds)\u001b[0m\n\u001b[0;32m   1706\u001b[0m         \u001b[0mkwds\u001b[0m\u001b[1;33m[\u001b[0m\u001b[1;34m'usecols'\u001b[0m\u001b[1;33m]\u001b[0m \u001b[1;33m=\u001b[0m \u001b[0mself\u001b[0m\u001b[1;33m.\u001b[0m\u001b[0musecols\u001b[0m\u001b[1;33m\u001b[0m\u001b[1;33m\u001b[0m\u001b[0m\n\u001b[0;32m   1707\u001b[0m \u001b[1;33m\u001b[0m\u001b[0m\n\u001b[1;32m-> 1708\u001b[1;33m         \u001b[0mself\u001b[0m\u001b[1;33m.\u001b[0m\u001b[0m_reader\u001b[0m \u001b[1;33m=\u001b[0m \u001b[0mparsers\u001b[0m\u001b[1;33m.\u001b[0m\u001b[0mTextReader\u001b[0m\u001b[1;33m(\u001b[0m\u001b[0msrc\u001b[0m\u001b[1;33m,\u001b[0m \u001b[1;33m**\u001b[0m\u001b[0mkwds\u001b[0m\u001b[1;33m)\u001b[0m\u001b[1;33m\u001b[0m\u001b[1;33m\u001b[0m\u001b[0m\n\u001b[0m\u001b[0;32m   1709\u001b[0m \u001b[1;33m\u001b[0m\u001b[0m\n\u001b[0;32m   1710\u001b[0m         \u001b[0mpassed_names\u001b[0m \u001b[1;33m=\u001b[0m \u001b[0mself\u001b[0m\u001b[1;33m.\u001b[0m\u001b[0mnames\u001b[0m \u001b[1;32mis\u001b[0m \u001b[1;32mNone\u001b[0m\u001b[1;33m\u001b[0m\u001b[1;33m\u001b[0m\u001b[0m\n",
      "\u001b[1;32mpandas\\_libs\\parsers.pyx\u001b[0m in \u001b[0;36mpandas._libs.parsers.TextReader.__cinit__\u001b[1;34m()\u001b[0m\n",
      "\u001b[1;32mpandas\\_libs\\parsers.pyx\u001b[0m in \u001b[0;36mpandas._libs.parsers.TextReader._setup_parser_source\u001b[1;34m()\u001b[0m\n",
      "\u001b[1;31mFileNotFoundError\u001b[0m: File b'/home/Ethan_google/final_dataset_train.csv' does not exist"
=======
   "metadata": {
    "collapsed": false
   },
   "outputs": [
    {
     "name": "stdout",
     "output_type": "stream",
     "text": [
      "{'max_depth': 14, 'colsample_bytree': 0.601106833197405, 'num_leaves': 135, 'subsample': 0.8963475556441226, 'reg_alpha': 0.36993529800526015, 'min_split_gain': 0.1576360868625681, 'n_estimators': 9000, 'reg_lambda': 0.26375559379515845, 'is_unbalance': False, 'learning_rate': 0.010034906958608734, 'min_child_weight': 95}\n"
     ]
    },
    {
     "name": "stderr",
     "output_type": "stream",
     "text": [
      "/home/yixun_tan/anaconda3/lib/python3.5/site-packages/lightgbm/engine.py:430: UserWarning: Found `n_estimators` in params. Will use it instead of argument\n",
      "  warnings.warn(\"Found `{}` in params. Will use it instead of argument\".format(alias))\n"
     ]
    },
    {
     "name": "stdout",
     "output_type": "stream",
     "text": [
      "5 fold CV ROC_AUC is 0.77964 (+/- 0.00485)\n"
>>>>>>> ae8b697573d8ce11a992652929caed8d0c9baceb
     ]
    }
   ],
   "source": [
    "with open('LGBM_best_param.pkl', 'rb') as file:\n",
    "    hyp = pickle.load(file)\n",
    "print(hyp)\n",
    "    \n",
    "df = pd.read_csv('/home/Ethan_google/final_dataset_train.csv')\n",
    "y_train = df['TARGET']\n",
    "x_train = df.drop(['TARGET', 'SK_ID_CURR'], axis = 1)\n",
    "\n",
    "df = pd.read_csv('/home/Ethan_google/final_dataset_test.csv')\n",
    "ID = df[['SK_ID_CURR']]\n",
    "x_test = df.drop(['TARGET', 'SK_ID_CURR'], axis = 1)\n",
    "\n",
    "train_set = lgb.Dataset(x_train, label = y_train)\n",
    "cv_results = lgb.cv(hyp, train_set, num_boost_round = 10000, nfold = 5, early_stopping_rounds = 200, metrics = 'auc')\n",
    "best_score = cv_results['auc-mean'][-1]\n",
    "std = cv_results['auc-stdv'][-1]\n",
    "print('5 fold CV ROC_AUC is %0.5f (+/- %0.5f)' %(best_score, std * 2))\n"
   ]
  },
  {
   "cell_type": "code",
   "execution_count": 18,
   "metadata": {
    "collapsed": false
   },
   "outputs": [
    {
     "name": "stdout",
     "output_type": "stream",
     "text": [
      "Training until validation scores don't improve for 200 rounds.\n",
      "[200]\ttraining's binary_logloss: 0.238462\ttraining's auc: 0.80476\tvalid_1's binary_logloss: 0.247634\tvalid_1's auc: 0.764719\n",
      "[400]\ttraining's binary_logloss: 0.225145\ttraining's auc: 0.830817\tvalid_1's binary_logloss: 0.242223\tvalid_1's auc: 0.773938\n",
      "[600]\ttraining's binary_logloss: 0.216695\ttraining's auc: 0.849017\tvalid_1's binary_logloss: 0.240288\tvalid_1's auc: 0.778338\n",
      "[800]\ttraining's binary_logloss: 0.210456\ttraining's auc: 0.862499\tvalid_1's binary_logloss: 0.239388\tvalid_1's auc: 0.780571\n",
      "[1000]\ttraining's binary_logloss: 0.205257\ttraining's auc: 0.873829\tvalid_1's binary_logloss: 0.238916\tvalid_1's auc: 0.781743\n",
      "[1200]\ttraining's binary_logloss: 0.200845\ttraining's auc: 0.883207\tvalid_1's binary_logloss: 0.23861\tvalid_1's auc: 0.782584\n",
      "[1400]\ttraining's binary_logloss: 0.197168\ttraining's auc: 0.890898\tvalid_1's binary_logloss: 0.23843\tvalid_1's auc: 0.783138\n",
      "[1600]\ttraining's binary_logloss: 0.193593\ttraining's auc: 0.898164\tvalid_1's binary_logloss: 0.238354\tvalid_1's auc: 0.783364\n",
      "[1800]\ttraining's binary_logloss: 0.190109\ttraining's auc: 0.905018\tvalid_1's binary_logloss: 0.238342\tvalid_1's auc: 0.783402\n",
      "[2000]\ttraining's binary_logloss: 0.186998\ttraining's auc: 0.910946\tvalid_1's binary_logloss: 0.23833\tvalid_1's auc: 0.783531\n",
      "Early stopping, best iteration is:\n",
      "[1927]\ttraining's binary_logloss: 0.188091\ttraining's auc: 0.908905\tvalid_1's binary_logloss: 0.238319\tvalid_1's auc: 0.783496\n",
      "Fold  1 AUC: 0.783496\n",
      "Training until validation scores don't improve for 200 rounds.\n",
      "[200]\ttraining's binary_logloss: 0.23837\ttraining's auc: 0.804692\tvalid_1's binary_logloss: 0.2483\tvalid_1's auc: 0.760893\n",
      "[400]\ttraining's binary_logloss: 0.225055\ttraining's auc: 0.830937\tvalid_1's binary_logloss: 0.242766\tvalid_1's auc: 0.771567\n",
      "[600]\ttraining's binary_logloss: 0.217045\ttraining's auc: 0.848159\tvalid_1's binary_logloss: 0.240598\tvalid_1's auc: 0.776867\n",
      "[800]\ttraining's binary_logloss: 0.210744\ttraining's auc: 0.86193\tvalid_1's binary_logloss: 0.23957\tvalid_1's auc: 0.779495\n",
      "[1000]\ttraining's binary_logloss: 0.205662\ttraining's auc: 0.872982\tvalid_1's binary_logloss: 0.239116\tvalid_1's auc: 0.780551\n",
      "[1200]\ttraining's binary_logloss: 0.201288\ttraining's auc: 0.882372\tvalid_1's binary_logloss: 0.23881\tvalid_1's auc: 0.781446\n",
      "[1400]\ttraining's binary_logloss: 0.197297\ttraining's auc: 0.890675\tvalid_1's binary_logloss: 0.238609\tvalid_1's auc: 0.782051\n",
      "[1600]\ttraining's binary_logloss: 0.19382\ttraining's auc: 0.897756\tvalid_1's binary_logloss: 0.238537\tvalid_1's auc: 0.782268\n",
      "[1800]\ttraining's binary_logloss: 0.190466\ttraining's auc: 0.904339\tvalid_1's binary_logloss: 0.238514\tvalid_1's auc: 0.782371\n",
      "Early stopping, best iteration is:\n",
      "[1785]\ttraining's binary_logloss: 0.190691\ttraining's auc: 0.903891\tvalid_1's binary_logloss: 0.23851\tvalid_1's auc: 0.782386\n",
      "Fold  2 AUC: 0.782386\n",
      "Training until validation scores don't improve for 200 rounds.\n",
      "[200]\ttraining's binary_logloss: 0.238307\ttraining's auc: 0.805151\tvalid_1's binary_logloss: 0.247992\tvalid_1's auc: 0.761234\n",
      "[400]\ttraining's binary_logloss: 0.224858\ttraining's auc: 0.831901\tvalid_1's binary_logloss: 0.24281\tvalid_1's auc: 0.770104\n",
      "[600]\ttraining's binary_logloss: 0.216262\ttraining's auc: 0.850464\tvalid_1's binary_logloss: 0.240875\tvalid_1's auc: 0.774508\n",
      "[800]\ttraining's binary_logloss: 0.21028\ttraining's auc: 0.863156\tvalid_1's binary_logloss: 0.240007\tvalid_1's auc: 0.776638\n",
      "[1000]\ttraining's binary_logloss: 0.20532\ttraining's auc: 0.873809\tvalid_1's binary_logloss: 0.239513\tvalid_1's auc: 0.777965\n",
      "[1200]\ttraining's binary_logloss: 0.200989\ttraining's auc: 0.883016\tvalid_1's binary_logloss: 0.239281\tvalid_1's auc: 0.778547\n",
      "[1400]\ttraining's binary_logloss: 0.196904\ttraining's auc: 0.891612\tvalid_1's binary_logloss: 0.239184\tvalid_1's auc: 0.778851\n",
      "[1600]\ttraining's binary_logloss: 0.193125\ttraining's auc: 0.899306\tvalid_1's binary_logloss: 0.23913\tvalid_1's auc: 0.77895\n",
      "[1800]\ttraining's binary_logloss: 0.189603\ttraining's auc: 0.906116\tvalid_1's binary_logloss: 0.239081\tvalid_1's auc: 0.779127\n",
      "[2000]\ttraining's binary_logloss: 0.18625\ttraining's auc: 0.91249\tvalid_1's binary_logloss: 0.23911\tvalid_1's auc: 0.779056\n",
      "Early stopping, best iteration is:\n",
      "[1909]\ttraining's binary_logloss: 0.187683\ttraining's auc: 0.909789\tvalid_1's binary_logloss: 0.239063\tvalid_1's auc: 0.779216\n",
      "Fold  3 AUC: 0.779216\n",
      "Training until validation scores don't improve for 200 rounds.\n",
      "[200]\ttraining's binary_logloss: 0.238571\ttraining's auc: 0.804533\tvalid_1's binary_logloss: 0.247244\tvalid_1's auc: 0.763644\n",
      "[400]\ttraining's binary_logloss: 0.225225\ttraining's auc: 0.830789\tvalid_1's binary_logloss: 0.24174\tvalid_1's auc: 0.773296\n",
      "[600]\ttraining's binary_logloss: 0.21684\ttraining's auc: 0.849007\tvalid_1's binary_logloss: 0.239553\tvalid_1's auc: 0.778746\n",
      "[800]\ttraining's binary_logloss: 0.210647\ttraining's auc: 0.862339\tvalid_1's binary_logloss: 0.23861\tvalid_1's auc: 0.781227\n",
      "[1000]\ttraining's binary_logloss: 0.205543\ttraining's auc: 0.873273\tvalid_1's binary_logloss: 0.238145\tvalid_1's auc: 0.782427\n",
      "[1200]\ttraining's binary_logloss: 0.201047\ttraining's auc: 0.882999\tvalid_1's binary_logloss: 0.237916\tvalid_1's auc: 0.783002\n",
      "[1400]\ttraining's binary_logloss: 0.197263\ttraining's auc: 0.890896\tvalid_1's binary_logloss: 0.237785\tvalid_1's auc: 0.783328\n",
      "[1600]\ttraining's binary_logloss: 0.193426\ttraining's auc: 0.898678\tvalid_1's binary_logloss: 0.237739\tvalid_1's auc: 0.783414\n",
      "[1800]\ttraining's binary_logloss: 0.189975\ttraining's auc: 0.905373\tvalid_1's binary_logloss: 0.237716\tvalid_1's auc: 0.783505\n",
      "Early stopping, best iteration is:\n",
      "[1732]\ttraining's binary_logloss: 0.191154\ttraining's auc: 0.903136\tvalid_1's binary_logloss: 0.237694\tvalid_1's auc: 0.783566\n",
      "Fold  4 AUC: 0.783566\n",
      "Training until validation scores don't improve for 200 rounds.\n",
      "[200]\ttraining's binary_logloss: 0.238486\ttraining's auc: 0.804496\tvalid_1's binary_logloss: 0.247535\tvalid_1's auc: 0.764553\n",
      "[400]\ttraining's binary_logloss: 0.225117\ttraining's auc: 0.830914\tvalid_1's binary_logloss: 0.242362\tvalid_1's auc: 0.773401\n",
      "[600]\ttraining's binary_logloss: 0.216464\ttraining's auc: 0.84973\tvalid_1's binary_logloss: 0.240413\tvalid_1's auc: 0.777942\n",
      "[800]\ttraining's binary_logloss: 0.210204\ttraining's auc: 0.863209\tvalid_1's binary_logloss: 0.239556\tvalid_1's auc: 0.780202\n",
      "[1000]\ttraining's binary_logloss: 0.204997\ttraining's auc: 0.874377\tvalid_1's binary_logloss: 0.239097\tvalid_1's auc: 0.781307\n",
      "[1200]\ttraining's binary_logloss: 0.200631\ttraining's auc: 0.883715\tvalid_1's binary_logloss: 0.238828\tvalid_1's auc: 0.781912\n",
      "[1400]\ttraining's binary_logloss: 0.196742\ttraining's auc: 0.891871\tvalid_1's binary_logloss: 0.238705\tvalid_1's auc: 0.782183\n",
      "[1600]\ttraining's binary_logloss: 0.193014\ttraining's auc: 0.899431\tvalid_1's binary_logloss: 0.238635\tvalid_1's auc: 0.782257\n",
      "Early stopping, best iteration is:\n",
      "[1500]\ttraining's binary_logloss: 0.194865\ttraining's auc: 0.895717\tvalid_1's binary_logloss: 0.238648\tvalid_1's auc: 0.782337\n",
      "Fold  5 AUC: 0.782337\n"
     ]
    }
   ],
   "source": [
    "num_folds = 5\n",
    "cv = StratifiedKFold(n_splits = num_folds, shuffle = True)\n",
    "    \n",
    "oof_preds = np.zeros(x_train.shape[0])\n",
    "sub_preds = np.zeros(x_test.shape[0])\n",
    "\n",
    "for n_fold, (train_idx, valid_idx) in enumerate(cv.split(x_train, y_train)):\n",
    "\n",
    "    train_x, train_y = x_train.iloc[train_idx], y_train.iloc[train_idx]\n",
    "    valid_x, valid_y = x_train.iloc[valid_idx], y_train.iloc[valid_idx]\n",
    "    \n",
    "    clf = LGBMClassifier(**hyp)\n",
    "\n",
    "    clf.fit(train_x, train_y, eval_set = [(train_x, train_y), (valid_x, valid_y)], eval_metric = 'auc', \n",
    "            verbose = 200, early_stopping_rounds = 200)\n",
    "    \n",
    "    oof_preds[valid_idx] = clf.predict_proba(valid_x, num_iteration = clf.best_iteration_)[:, 1]\n",
    "    sub_preds += clf.predict_proba(x_test, num_iteration = clf.best_iteration_)[:, 1] / cv.n_splits\n",
    "    \n",
    "    print('Fold %2d AUC: %.6f' % (n_fold + 1, roc_auc_score(valid_y, oof_preds[valid_idx])))"
   ]
  },
  {
   "cell_type": "code",
   "execution_count": 19,
   "metadata": {
    "collapsed": false
   },
   "outputs": [
    {
     "name": "stdout",
     "output_type": "stream",
     "text": [
      "Full AUC score: 0.782186\n"
     ]
    },
    {
     "name": "stderr",
     "output_type": "stream",
     "text": [
      "/home/yixun_tan/anaconda3/lib/python3.5/site-packages/ipykernel/__main__.py:3: SettingWithCopyWarning: \n",
      "A value is trying to be set on a copy of a slice from a DataFrame.\n",
      "Try using .loc[row_indexer,col_indexer] = value instead\n",
      "\n",
      "See the caveats in the documentation: http://pandas.pydata.org/pandas-docs/stable/indexing.html#indexing-view-versus-copy\n",
      "  app.launch_new_instance()\n"
     ]
    }
   ],
   "source": [
    "print('Full AUC score: %.6f' % roc_auc_score(y_train, oof_preds))\n",
    "submit = ID\n",
    "submit['TARGET'] = sub_preds\n",
    "submit.to_csv('lightgbm_best_params.csv', index = False)"
   ]
  },
  {
   "cell_type": "code",
   "execution_count": null,
   "metadata": {
    "collapsed": true
   },
   "outputs": [],
   "source": []
  }
 ],
 "metadata": {
  "kernelspec": {
   "display_name": "Python 3",
   "language": "python",
   "name": "python3"
  },
  "language_info": {
   "codemirror_mode": {
    "name": "ipython",
    "version": 3
   },
   "file_extension": ".py",
   "mimetype": "text/x-python",
   "name": "python",
   "nbconvert_exporter": "python",
   "pygments_lexer": "ipython3",
   "version": "3.5.4"
  }
 },
 "nbformat": 4,
 "nbformat_minor": 2
}
