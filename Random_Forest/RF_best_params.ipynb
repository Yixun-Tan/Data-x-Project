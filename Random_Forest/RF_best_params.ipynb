{
 "cells": [
  {
   "cell_type": "code",
   "execution_count": null,
   "metadata": {},
   "outputs": [],
   "source": [
    "import pandas as pd\n",
    "import numpy as np\n",
    "import pickle\n",
    "\n",
    "from sklearn.ensemble import RandomForestClassifier\n",
    "from sklearn.model_selection import cross_val_score\n",
    "from sklearn.metrics import roc_auc_score\n",
    "\n",
    "import warnings\n",
    "warnings.filterwarnings('ignore')"
   ]
  },
  {
   "cell_type": "code",
   "execution_count": null,
   "metadata": {},
   "outputs": [],
   "source": [
    "with open('RF_best_param.pkl', 'rb') as file:\n",
    "    hyp = pickle.load(file)\n",
    "    \n",
    "df = pd.read_csv('/home/Ethan_google/final_dataset_train.csv')\n",
    "y_train = df['TARGET']\n",
    "x_train = df.drop(['TARGET', 'SK_ID_CURR'], axis = 1)\n",
    "\n",
    "df = pd.read_csv('/home/Ethan_google/final_dataset_test.csv')\n",
    "ID = x_test[['SK_ID_CURR']]\n",
    "x_test = df.drop(['TARGET', 'SK_ID_CURR'], axis = 1)\n",
    "\n",
    "%%time\n",
    "clr_rf = RandomForestClassifier(**hyp, n_jobs = -1, verbose = 2) \n",
    "roc_auc_scores = cross_val_score(clr_rf, x_train, y_train, cv=5, scoring='roc_auc')\n",
    "print('5 fold CV ROC_AUC is %0.5f (+/- %0.5f)' %(roc_auc_scores.mean(), roc_auc_scores.std() * 2))"
   ]
  },
  {
   "cell_type": "code",
   "execution_count": null,
   "metadata": {},
   "outputs": [],
   "source": [
    "clr_rf.fit(x_train, y_train)\n",
    "y_test_pred = clr_rf.predict_proba(x_test)[:, 1]\n",
    "\n",
    "submit = ID\n",
    "submit['TARGET'] = y_test_pred\n",
    "\n",
    "submit.to_csv('random_forest_best_params.csv', index = False)"
   ]
  }
 ],
 "metadata": {
  "kernelspec": {
   "display_name": "Python 3",
   "language": "python",
   "name": "python3"
  },
  "language_info": {
   "codemirror_mode": {
    "name": "ipython",
    "version": 3
   },
   "file_extension": ".py",
   "mimetype": "text/x-python",
   "name": "python",
   "nbconvert_exporter": "python",
   "pygments_lexer": "ipython3",
   "version": "3.6.7"
  }
 },
 "nbformat": 4,
 "nbformat_minor": 2
}
